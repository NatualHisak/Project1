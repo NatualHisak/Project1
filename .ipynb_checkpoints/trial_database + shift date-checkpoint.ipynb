{
 "cells": [
  {
   "cell_type": "code",
   "execution_count": 1,
   "id": "66a7b58d",
   "metadata": {},
   "outputs": [],
   "source": [
    "import pandas as pd\n",
    "import sqlite3\n",
    "from datetime import date\n",
    "from icalendar import Calendar, Event\n",
    "import requests\n",
    "from pandas.tseries.offsets import BDay\n",
    "import datetime\n",
    "import pytz"
   ]
  },
  {
   "cell_type": "markdown",
   "id": "7b96d9de",
   "metadata": {},
   "source": [
    "# Load Data"
   ]
  },
  {
   "cell_type": "code",
   "execution_count": 2,
   "id": "169bf8b9",
   "metadata": {},
   "outputs": [
    {
     "data": {
      "text/html": [
       "<div>\n",
       "<style scoped>\n",
       "    .dataframe tbody tr th:only-of-type {\n",
       "        vertical-align: middle;\n",
       "    }\n",
       "\n",
       "    .dataframe tbody tr th {\n",
       "        vertical-align: top;\n",
       "    }\n",
       "\n",
       "    .dataframe thead th {\n",
       "        text-align: right;\n",
       "    }\n",
       "</style>\n",
       "<table border=\"1\" class=\"dataframe\">\n",
       "  <thead>\n",
       "    <tr style=\"text-align: right;\">\n",
       "      <th></th>\n",
       "      <th>Activity</th>\n",
       "      <th>SKH</th>\n",
       "      <th>Type</th>\n",
       "      <th>Date</th>\n",
       "      <th>base</th>\n",
       "    </tr>\n",
       "  </thead>\n",
       "  <tbody>\n",
       "    <tr>\n",
       "      <th>0</th>\n",
       "      <td>Bonding Wire, Lanyard &amp; Flame Trap Check</td>\n",
       "      <td>106</td>\n",
       "      <td>Weekly</td>\n",
       "      <td>01-02</td>\n",
       "      <td>terminal 1</td>\n",
       "    </tr>\n",
       "    <tr>\n",
       "      <th>1</th>\n",
       "      <td>Bonding Wire, Lanyard &amp; Flame Trap Check</td>\n",
       "      <td>106</td>\n",
       "      <td>Weekly</td>\n",
       "      <td>01-09</td>\n",
       "      <td>terminal 1</td>\n",
       "    </tr>\n",
       "    <tr>\n",
       "      <th>2</th>\n",
       "      <td>Bonding Wire, Lanyard &amp; Flame Trap Check</td>\n",
       "      <td>106</td>\n",
       "      <td>Weekly</td>\n",
       "      <td>01-16</td>\n",
       "      <td>terminal 1</td>\n",
       "    </tr>\n",
       "    <tr>\n",
       "      <th>3</th>\n",
       "      <td>Bonding Wire, Lanyard &amp; Flame Trap Check</td>\n",
       "      <td>106</td>\n",
       "      <td>Weekly</td>\n",
       "      <td>01-23</td>\n",
       "      <td>terminal 1</td>\n",
       "    </tr>\n",
       "    <tr>\n",
       "      <th>4</th>\n",
       "      <td>Bonding Wire, Lanyard &amp; Flame Trap Check</td>\n",
       "      <td>106</td>\n",
       "      <td>Weekly</td>\n",
       "      <td>01-30</td>\n",
       "      <td>terminal 1</td>\n",
       "    </tr>\n",
       "    <tr>\n",
       "      <th>...</th>\n",
       "      <td>...</td>\n",
       "      <td>...</td>\n",
       "      <td>...</td>\n",
       "      <td>...</td>\n",
       "      <td>...</td>\n",
       "    </tr>\n",
       "    <tr>\n",
       "      <th>15096</th>\n",
       "      <td>Hose Check Report Platform</td>\n",
       "      <td>91</td>\n",
       "      <td>Six-Monthly</td>\n",
       "      <td>12-21</td>\n",
       "      <td>terminal 3</td>\n",
       "    </tr>\n",
       "    <tr>\n",
       "      <th>15097</th>\n",
       "      <td>Hose Check Report Platform</td>\n",
       "      <td>104</td>\n",
       "      <td>Six-Monthly</td>\n",
       "      <td>01-02</td>\n",
       "      <td>terminal 3</td>\n",
       "    </tr>\n",
       "    <tr>\n",
       "      <th>15098</th>\n",
       "      <td>Hose Check Report Platform</td>\n",
       "      <td>104</td>\n",
       "      <td>Six-Monthly</td>\n",
       "      <td>07-03</td>\n",
       "      <td>terminal 3</td>\n",
       "    </tr>\n",
       "    <tr>\n",
       "      <th>15099</th>\n",
       "      <td>Hose Check Report Platform</td>\n",
       "      <td>105</td>\n",
       "      <td>Six-Monthly</td>\n",
       "      <td>02-06</td>\n",
       "      <td>terminal 3</td>\n",
       "    </tr>\n",
       "    <tr>\n",
       "      <th>15100</th>\n",
       "      <td>Hose Check Report Platform</td>\n",
       "      <td>105</td>\n",
       "      <td>Six-Monthly</td>\n",
       "      <td>08-04</td>\n",
       "      <td>terminal 3</td>\n",
       "    </tr>\n",
       "  </tbody>\n",
       "</table>\n",
       "<p>15101 rows × 5 columns</p>\n",
       "</div>"
      ],
      "text/plain": [
       "                                       Activity  SKH         Type   Date  \\\n",
       "0      Bonding Wire, Lanyard & Flame Trap Check  106       Weekly  01-02   \n",
       "1      Bonding Wire, Lanyard & Flame Trap Check  106       Weekly  01-09   \n",
       "2      Bonding Wire, Lanyard & Flame Trap Check  106       Weekly  01-16   \n",
       "3      Bonding Wire, Lanyard & Flame Trap Check  106       Weekly  01-23   \n",
       "4      Bonding Wire, Lanyard & Flame Trap Check  106       Weekly  01-30   \n",
       "...                                         ...  ...          ...    ...   \n",
       "15096                Hose Check Report Platform   91  Six-Monthly  12-21   \n",
       "15097                Hose Check Report Platform  104  Six-Monthly  01-02   \n",
       "15098                Hose Check Report Platform  104  Six-Monthly  07-03   \n",
       "15099                Hose Check Report Platform  105  Six-Monthly  02-06   \n",
       "15100                Hose Check Report Platform  105  Six-Monthly  08-04   \n",
       "\n",
       "             base  \n",
       "0      terminal 1  \n",
       "1      terminal 1  \n",
       "2      terminal 1  \n",
       "3      terminal 1  \n",
       "4      terminal 1  \n",
       "...           ...  \n",
       "15096  terminal 3  \n",
       "15097  terminal 3  \n",
       "15098  terminal 3  \n",
       "15099  terminal 3  \n",
       "15100  terminal 3  \n",
       "\n",
       "[15101 rows x 5 columns]"
      ]
     },
     "execution_count": 2,
     "metadata": {},
     "output_type": "execute_result"
    }
   ],
   "source": [
    "data = pd.read_csv(\"data/final.csv\")\n",
    "data.set_index(\"Unnamed: 0\", inplace = True)\n",
    "data.index.name = None\n",
    "data"
   ]
  },
  {
   "cell_type": "markdown",
   "id": "77b1032b",
   "metadata": {},
   "source": [
    "# Check and Make Calendar event"
   ]
  },
  {
   "cell_type": "markdown",
   "id": "90952011",
   "metadata": {},
   "source": [
    "## Using python library (holidays)"
   ]
  },
  {
   "cell_type": "code",
   "execution_count": 3,
   "id": "3aeb3484",
   "metadata": {},
   "outputs": [
    {
     "name": "stdout",
     "output_type": "stream",
     "text": [
      "2023-01-01 Tahun Baru Masehi\n",
      "2023-01-22 Tahun Baru Imlek\n",
      "2023-02-18 Isra' Mi'raj Nabi Muhammad* (*estimated)\n",
      "2023-03-22 Hari Suci Nyepi\n",
      "2023-04-07 Wafat Yesus Kristus\n",
      "2023-04-22 Hari Raya Idul Fitri\n",
      "2023-04-23 Hari kedua dari Hari Raya Idul Fitri\n",
      "2023-05-01 Hari Buruh Internasional\n",
      "2023-05-18 Kenaikan Yesus Kristus\n",
      "2023-06-01 Hari Lahir Pancasila\n",
      "2023-06-04 Hari Raya Waisak\n",
      "2023-06-29 Hari Raya Idul Adha\n",
      "2023-07-19 Tahun Baru Islam* (*estimated)\n",
      "2023-08-17 Hari Kemerdekaan Republik Indonesia\n",
      "2023-09-27 Maulid Nabi Muhammad* (*estimated)\n",
      "2023-12-25 Hari Raya Natal\n"
     ]
    }
   ],
   "source": [
    "#check holidays implementation\n",
    "import holidays\n",
    "for date, name in sorted(holidays.ID(years=2023).items()):\n",
    "    print(date, name)"
   ]
  },
  {
   "cell_type": "markdown",
   "id": "72f3e794",
   "metadata": {},
   "source": [
    "actually not complete"
   ]
  },
  {
   "cell_type": "markdown",
   "id": "aa742ba3",
   "metadata": {},
   "source": [
    "## Load ICS from officeholidays"
   ]
  },
  {
   "cell_type": "code",
   "execution_count": 4,
   "id": "816d1f31",
   "metadata": {
    "scrolled": true
   },
   "outputs": [],
   "source": [
    "url = \"https://www.officeholidays.com/ics-clean/indonesia\"\n",
    "gcal = Calendar.from_ical(requests.get(url).text)"
   ]
  },
  {
   "cell_type": "code",
   "execution_count": 5,
   "id": "e8168a64",
   "metadata": {},
   "outputs": [],
   "source": [
    "temp = []\n",
    "for component in gcal.walk():\n",
    "    if component.name == \"VEVENT\":\n",
    "        temp.append({\n",
    "            'Name': component.get('summary'),\n",
    "            'Start': str(component.get('DTSTART').dt)\n",
    "        })\n",
    "        \n",
    "holidays = pd.DataFrame(temp)"
   ]
  },
  {
   "cell_type": "code",
   "execution_count": 6,
   "id": "b21f9ccf",
   "metadata": {},
   "outputs": [],
   "source": [
    "def isHolidays(date):\n",
    "    if date in holidays['Start'].values:\n",
    "        return True\n",
    "    else:\n",
    "        return False"
   ]
  },
  {
   "cell_type": "code",
   "execution_count": 7,
   "id": "1ee21a85",
   "metadata": {},
   "outputs": [],
   "source": [
    "def isWeekend(date):\n",
    "    if datetime.datetime.strptime(\n",
    "    date, '%Y-%m-%d').weekday() > 4:\n",
    "        return True\n",
    "    else:\n",
    "        return False"
   ]
  },
  {
   "cell_type": "code",
   "execution_count": 8,
   "id": "bb4ea4b0",
   "metadata": {
    "scrolled": true
   },
   "outputs": [],
   "source": [
    "def shiftDate(date):\n",
    "    curYear = datetime.datetime.now().strftime(\"%Y\")\n",
    "    shift = 0\n",
    "    year_date = str(curYear) + \"-\" + date\n",
    "    while isHolidays(year_date) or isWeekend(year_date):\n",
    "        shift += 1\n",
    "        temp_sub = str((datetime.datetime.strptime(year_date, '%Y-%m-%d') - datetime.timedelta(days = shift)).date())\n",
    "        temp_add = str((datetime.datetime.strptime(year_date, '%Y-%m-%d') + datetime.timedelta(days = shift)).date())\n",
    "        if isHolidays(temp_sub) == False or isWeekend(temp_sub) == False:\n",
    "            year_date = temp_sub\n",
    "        elif isHolidays(temp_add) == False or isWeekend(temp_add) == False:\n",
    "            year_date = temp_add\n",
    "    return year_date"
   ]
  },
  {
   "cell_type": "code",
   "execution_count": 9,
   "id": "2ffa91cf",
   "metadata": {},
   "outputs": [],
   "source": [
    "data['year_date'] = data['Date'].apply(shiftDate)"
   ]
  },
  {
   "cell_type": "markdown",
   "id": "83b3bf9d",
   "metadata": {},
   "source": [
    "## Create functions for inserting data and yearly functions (SQLite database)"
   ]
  },
  {
   "cell_type": "code",
   "execution_count": 10,
   "id": "ce39c2d9",
   "metadata": {},
   "outputs": [],
   "source": [
    "#initialize (try to create user)\n",
    "conn = sqlite3.connect('pelitaAirDB')\n",
    "c = conn.cursor()\n",
    "query = '''CREATE TABLE if not exists Users\n",
    "               (userid text, username text, password text)'''\n",
    "\n",
    "conn.execute(query)\n",
    "conn.commit()\n",
    "# you also need to close  the connection\n",
    "conn.close() "
   ]
  },
  {
   "cell_type": "markdown",
   "id": "14ff39b3",
   "metadata": {},
   "source": [
    "Create User for Admin purposes"
   ]
  },
  {
   "cell_type": "code",
   "execution_count": 15,
   "id": "e1279ce8",
   "metadata": {},
   "outputs": [],
   "source": [
    "def createUser(userid, username, password):\n",
    "    \"\"\"function to create user, need to input \n",
    "    userid: text\n",
    "    username: text\n",
    "    password: text\n",
    "    \"\"\"\n",
    "    conn = sqlite3.connect('pelitaAirDB')\n",
    "    c = conn.cursor()\n",
    "    insert = 'INSERT INTO Users Values (?,?,?)'\n",
    "    conn.execute(query)\n",
    "    conn.executemany(insert, [(userid, username, password)])\n",
    "    conn.commit()\n",
    "    # you also need to close  the connection\n",
    "    conn.close() "
   ]
  },
  {
   "cell_type": "markdown",
   "id": "dd0afdb2",
   "metadata": {},
   "source": [
    "Replace Schedule table every year and save old data"
   ]
  },
  {
   "cell_type": "code",
   "execution_count": 118,
   "id": "1bcbbb1f",
   "metadata": {},
   "outputs": [],
   "source": [
    "def yearlyRun(data):\n",
    "    \"\"\"function to shift date and save old data to csv\"\"\"\n",
    "    #Connect to database\n",
    "    conn = sqlite3.connect('pelitaAirDB')\n",
    "    table_name = \"Schedule\"\n",
    "    #Save old data as CSV\n",
    "    a = conn.execute(f'SELECT * FROM {table_name}')\n",
    "    results = a.fetchall()\n",
    "    old_data = pd.DataFrame(results)\n",
    "    old_data.columns = [\"Activity\", \"SKH\", \"Type\", \"Date\", \"base\", \"year_date\", \"execution_date\"]\n",
    "    curYear = datetime.datetime.now().strftime(\"%Y\")\n",
    "    old_data.to_csv('{}.csv'.format(str(curYear)))\n",
    "    #Shift Date\n",
    "    data['year_date'] = data['Date'].apply(shiftDate)\n",
    "    #add execution_date\n",
    "    data['execution_date'] = \"\"\n",
    "    #create schedule table if not exists, if exists then replace\n",
    "    query = f'Create table if not Exists {table_name} (Activity text, SKH text, Type text, Date text, base text, year_date text, execution_date text)'\n",
    "    conn.execute(query)\n",
    "    data.to_sql(table_name,conn,if_exists='replace',index=False)\n",
    "    conn.commit()\n",
    "    conn.close()"
   ]
  },
  {
   "cell_type": "code",
   "execution_count": 119,
   "id": "dff247e1",
   "metadata": {
    "scrolled": true
   },
   "outputs": [],
   "source": [
    "#Check if logic works\n",
    "yearlyRun(data)\n",
    "# it works"
   ]
  },
  {
   "cell_type": "code",
   "execution_count": 122,
   "id": "c0c4cd0c",
   "metadata": {},
   "outputs": [],
   "source": [
    "def updateSchedule(activity, SKH, Type, year_date, base):\n",
    "    \"\"\"update schedule to done\"\"\"\n",
    "    conn = sqlite3.connect('pelitaAirDB')\n",
    "    table_name = \"Schedule\"\n",
    "    date = datetime.datetime.now().strftime(\"%Y-%m-%d\")\n",
    "    a = conn.execute(f'UPDATE {table_name} SET execution_date = \"{date}\" WHERE activity = \"{activity}\" AND SKH = \"{SKH}\" AND Type = \"{Type}\" AND year_date = \"{year_date}\" AND base = \"{base}\"')\n",
    "    conn.commit()\n",
    "    conn.close()"
   ]
  },
  {
   "cell_type": "code",
   "execution_count": 123,
   "id": "96541b4f",
   "metadata": {},
   "outputs": [
    {
     "name": "stdout",
     "output_type": "stream",
     "text": [
      "[('Bonding Wire, Lanyard & Flame Trap Check', 106, 'Weekly', '01-02', 'terminal 1', '2023-01-02', '2023-02-22')]\n"
     ]
    }
   ],
   "source": [
    "#Check if logic works\n",
    "updateSchedule(\"Bonding Wire, Lanyard & Flame Trap Check\", \"106\", \"Weekly\", \"2023-01-02\", \"terminal 1\")\n",
    "conn = sqlite3.connect('pelitaAirDB')\n",
    "c = conn.cursor()\n",
    "a = conn.execute(f'SELECT * FROM Schedule WHERE activity = \"Bonding Wire, Lanyard & Flame Trap Check\" AND SKH = \"106\" AND Type = \"Weekly\" AND year_date = \"2023-01-02\" AND base = \"terminal 1\"')\n",
    "results = a.fetchall()\n",
    "print(results)\n",
    "conn.close()\n",
    "#it works"
   ]
  }
 ],
 "metadata": {
  "kernelspec": {
   "display_name": "Python 3 (ipykernel)",
   "language": "python",
   "name": "python3"
  },
  "language_info": {
   "codemirror_mode": {
    "name": "ipython",
    "version": 3
   },
   "file_extension": ".py",
   "mimetype": "text/x-python",
   "name": "python",
   "nbconvert_exporter": "python",
   "pygments_lexer": "ipython3",
   "version": "3.9.15"
  }
 },
 "nbformat": 4,
 "nbformat_minor": 5
}
